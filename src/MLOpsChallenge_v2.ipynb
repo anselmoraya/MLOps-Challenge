{
 "cells": [
  {
   "cell_type": "code",
   "execution_count": 5,
   "id": "9357450c",
   "metadata": {
    "scrolled": true
   },
   "outputs": [],
   "source": [
    "import numpy as np\n",
    "from numpyencoder import NumpyEncoder\n",
    "from sklearn.linear_model import LinearRegression\n",
    "import json\n",
    "\n",
    "x = np.array([6, 16, 26, 36, 46, 56, 64]).reshape((-1, 1))\n",
    "y = np.array([4, 18, 20, 22, 24, 35, 45])\n",
    "model = LinearRegression().fit(x, y)"
   ]
  },
  {
   "cell_type": "code",
   "execution_count": 6,
   "id": "2c4ffeeb",
   "metadata": {},
   "outputs": [],
   "source": [
    "result = model.predict(np.array([1]).reshape((-1,1)))"
   ]
  },
  {
   "cell_type": "code",
   "execution_count": 7,
   "id": "00b46739",
   "metadata": {},
   "outputs": [],
   "source": [
    "res = json.dumps(result, cls=NumpyEncoder)"
   ]
  },
  {
   "cell_type": "code",
   "execution_count": 8,
   "id": "4c960a86",
   "metadata": {
    "pycharm": {
     "name": "#%%\n"
    }
   },
   "outputs": [
    {
     "name": "stdout",
     "output_type": "stream",
     "text": [
      "[3.7155025553662675]\n"
     ]
    }
   ],
   "source": [
    "print(res)"
   ]
  }
 ],
 "metadata": {
  "celltoolbar": "Tags",
  "interpreter": {
   "hash": "f52c8cb03975cc13301adce3f56d12ec24a41ea64e7b6521b7dc12093bad6462"
  },
  "kernelspec": {
   "display_name": "Python 3 (ipykernel)",
   "language": "python",
   "name": "python3"
  },
  "language_info": {
   "codemirror_mode": {
    "name": "ipython",
    "version": 3
   },
   "file_extension": ".py",
   "mimetype": "text/x-python",
   "name": "python",
   "nbconvert_exporter": "python",
   "pygments_lexer": "ipython3",
   "version": "3.9.10"
  }
 },
 "nbformat": 4,
 "nbformat_minor": 5
}
