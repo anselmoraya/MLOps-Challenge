{
 "cells": [
  {
   "cell_type": "code",
   "execution_count": 13,
   "id": "9357450c",
   "metadata": {
    "scrolled": true
   },
   "outputs": [],
   "source": [
    "from numpyencoder import NumpyEncoder\n",
    "from sklearn.linear_model import LinearRegression\n",
    "from sklearn.metrics import accuracy_score\n",
    "import numpy as np\n",
    "import json\n",
    "\n",
    "def create_prediction():\n",
    "    x = np.array([6, 16, 26, 36, 46, 56, 64]).reshape((-1, 1))\n",
    "    y = np.array([4, 18, 20, 22, 24, 35, 45])\n",
    "    model = LinearRegression().fit(x, y)\n",
    "    prediction = model.predict(np.array([1]).reshape((-1,1)))\n",
    "    score_r2 = model.score(x, y)\n",
    "    return generate_reponse(score_r2, prediction)"
   ]
  },
  {
   "cell_type": "code",
   "execution_count": 14,
   "id": "397c70fc",
   "metadata": {},
   "outputs": [],
   "source": [
    "def generate_reponse(score_r2,prediction):\n",
    "    output = {}\n",
    "    output['score_r2'] = score_r2\n",
    "    output['output'] =  json.loads(json.dumps(prediction, cls=NumpyEncoder))\n",
    "    return output"
   ]
  },
  {
   "cell_type": "code",
   "execution_count": 15,
   "id": "00b46739",
   "metadata": {},
   "outputs": [],
   "source": [
    "def main():\n",
    "    res = create_prediction()\n",
    "    print(json.dumps(res))"
   ]
  },
  {
   "cell_type": "code",
   "execution_count": 16,
   "id": "6623b3ee",
   "metadata": {},
   "outputs": [
    {
     "name": "stdout",
     "output_type": "stream",
     "text": [
      "{\"score_r2\": 0.9000244324476292, \"output\": [3.7155025553662675]}\n"
     ]
    }
   ],
   "source": [
    "if __name__ == '__main__':\n",
    "    main()"
   ]
  }
 ],
 "metadata": {
  "celltoolbar": "Tags",
  "interpreter": {
   "hash": "f52c8cb03975cc13301adce3f56d12ec24a41ea64e7b6521b7dc12093bad6462"
  },
  "kernelspec": {
   "display_name": "Python 3 (ipykernel)",
   "language": "python",
   "name": "python3"
  },
  "language_info": {
   "codemirror_mode": {
    "name": "ipython",
    "version": 3
   },
   "file_extension": ".py",
   "mimetype": "text/x-python",
   "name": "python",
   "nbconvert_exporter": "python",
   "pygments_lexer": "ipython3",
   "version": "3.9.10"
  }
 },
 "nbformat": 4,
 "nbformat_minor": 5
}
