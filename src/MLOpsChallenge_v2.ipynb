{
 "cells": [
  {
   "cell_type": "code",
   "execution_count": 1,
   "id": "9357450c",
   "metadata": {
    "scrolled": true
   },
   "outputs": [],
   "source": [
    "import numpy as np\n",
    "from numpyencoder import NumpyEncoder\n",
    "from sklearn.linear_model import LinearRegression\n",
    "import json\n",
    "\n",
    "x = np.array([6, 16, 26, 36, 46, 56, 64]).reshape((-1, 1))\n",
    "y = np.array([4, 18, 20, 22, 24, 35, 45])\n",
    "model = LinearRegression().fit(x, y)"
   ]
  },
  {
   "cell_type": "code",
   "execution_count": 2,
   "id": "2c4ffeeb",
   "metadata": {},
   "outputs": [],
   "source": [
    "result = model.predict(np.array([1]).reshape((-1,1)))"
   ]
  },
  {
   "cell_type": "code",
   "execution_count": 3,
   "id": "00b46739",
   "metadata": {},
   "outputs": [],
   "source": [
    "res = json.dumps(result, cls=NumpyEncoder)"
   ]
  },
  {
   "cell_type": "code",
   "execution_count": null,
   "id": "4c960a86",
   "metadata": {
    "pycharm": {
     "name": "#%%\n"
    }
   },
   "outputs": [],
   "source": [
    "print(res)"
   ]
  }
 ],
 "metadata": {
  "celltoolbar": "Tags",
  "kernelspec": {
   "display_name": "local-venv",
   "language": "python",
   "name": "local-venv"
  },
  "language_info": {
   "codemirror_mode": {
    "name": "ipython",
    "version": 3
   },
   "file_extension": ".py",
   "mimetype": "text/x-python",
   "name": "python",
   "nbconvert_exporter": "python",
   "pygments_lexer": "ipython3",
   "version": "3.9.10"
  }
 },
 "nbformat": 4,
 "nbformat_minor": 5
}
